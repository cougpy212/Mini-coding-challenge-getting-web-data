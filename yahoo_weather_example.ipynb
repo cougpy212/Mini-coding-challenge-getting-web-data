{
 "cells": [
  {
   "cell_type": "markdown",
   "metadata": {},
   "source": [
    "# Requests/JSON Tutorial"
   ]
  },
  {
   "cell_type": "markdown",
   "metadata": {},
   "source": [
    "We first start by importing pprint which prints JSON nicely and requests which is a package for working with HTTP."
   ]
  },
  {
   "cell_type": "code",
   "execution_count": null,
   "metadata": {},
   "outputs": [],
   "source": [
    "import pprint\n",
    "import requests"
   ]
  },
  {
   "cell_type": "markdown",
   "metadata": {},
   "source": [
    "Now we want a function that builds a URL, calls yahoo weather's API with that URL, and returns to us the JSON data of the response. "
   ]
  },
  {
   "cell_type": "code",
   "execution_count": null,
   "metadata": {},
   "outputs": [],
   "source": [
    "def get_json_response(city, state):\n",
    "    '''Gets forecast from yahoo's weather API in JSON format,\n",
    "        city and state are taken as arguments to specify forecast location.\n",
    "        '''\n",
    "    url = ('https://query.yahooapis.com/v1/public/yql?q=select%20*%20from%20weather.forecast%20where%20woeid%20in'\n",
    "               '%20(select%20woeid%20from%20geo.places(1)%20where%20text%3D%22{}%2C%20{}%22)&format=json&env=store'\n",
    "               '%3A%2F%2Fdatatables.org%2Falltableswithkeys').format(city,state)\n",
    "    response = requests.get(url)\n",
    "    json_response = response.json()\n",
    "    return json_response"
   ]
  },
  {
   "cell_type": "markdown",
   "metadata": {},
   "source": [
    "Set a variable equal to the get_json_response function and pass seattle and wa as arguments. You can pprint this variable to get an idea of the structure of the JSON response we are dealing with. "
   ]
  },
  {
   "cell_type": "code",
   "execution_count": null,
   "metadata": {
    "scrolled": true
   },
   "outputs": [],
   "source": [
    "json_response = get_json_response(city='seattle', state='wa')\n",
    "pprint.pprint(json_response)"
   ]
  },
  {
   "cell_type": "markdown",
   "metadata": {},
   "source": [
    "We can make a function that gets the temperature forecast from our JSON response. This function accesses the value for ['query']['results']['channel']['item']['forecast'], which is a list and uses a for loop to iterate through that list. See https://www.json.org/ for more info on the structure of JSON."
   ]
  },
  {
   "cell_type": "code",
   "execution_count": null,
   "metadata": {},
   "outputs": [],
   "source": [
    "def get_temp_forecast(json_response):\n",
    "    '''Processes returned JSON from the get_json_response function for the short term temperature forecast.\n",
    "    '''\n",
    "    for item in json_response['query']['results']['channel']['item']['forecast']:\n",
    "        print('The forecasted high and low for ' + item['date'] + ' is: ' + item['high'] + ' and '\n",
    "              + item['low'] + ' deg F, respectively')"
   ]
  },
  {
   "cell_type": "markdown",
   "metadata": {},
   "source": [
    "Call the get_temp function and pass json_response as an argument."
   ]
  },
  {
   "cell_type": "code",
   "execution_count": null,
   "metadata": {
    "scrolled": true
   },
   "outputs": [],
   "source": [
    "get_temp_forecast(json_response)"
   ]
  },
  {
   "cell_type": "markdown",
   "metadata": {},
   "source": [
    "We just printed these temps, but we could do much more like put them in some structure or write them to a file if we wanted. "
   ]
  }
 ],
 "metadata": {
  "kernelspec": {
   "display_name": "Python 3",
   "language": "python",
   "name": "python3"
  },
  "language_info": {
   "codemirror_mode": {
    "name": "ipython",
    "version": 3
   },
   "file_extension": ".py",
   "mimetype": "text/x-python",
   "name": "python",
   "nbconvert_exporter": "python",
   "pygments_lexer": "ipython3",
   "version": "3.6.3"
  }
 },
 "nbformat": 4,
 "nbformat_minor": 2
}
