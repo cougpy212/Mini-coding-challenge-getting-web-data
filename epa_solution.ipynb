{
 "cells": [
  {
   "cell_type": "code",
   "execution_count": null,
   "metadata": {},
   "outputs": [],
   "source": [
    "import pprint\n",
    "import requests"
   ]
  },
  {
   "cell_type": "code",
   "execution_count": null,
   "metadata": {},
   "outputs": [],
   "source": [
    "def get_json_response(zipcode):\n",
    "    '''Gets UV index forecast information in JSON format for a specific location from epa.gov's API.\n",
    "    Zipcode is taken as an argument.\n",
    "    '''\n",
    "    url = 'https://iaspub.epa.gov/enviro/efservice/getEnvirofactsUVHOURLY/ZIP/{}/JSON'.format(zipcode)\n",
    "    json_response = requests.get(url).json()\n",
    "    return(json_response)"
   ]
  },
  {
   "cell_type": "code",
   "execution_count": null,
   "metadata": {},
   "outputs": [],
   "source": [
    "def get_UV_prediction(json_response):\n",
    "    '''Processes returned JSON of get_json_response function to obtain the UV index and corresponding date time value\n",
    "    of the forecast.\n",
    "    '''\n",
    "    for item in json_response:\n",
    "        print('The UV index prediction for ' + item['DATE_TIME'] + ' is ' + str(item['UV_VALUE']))"
   ]
  },
  {
   "cell_type": "code",
   "execution_count": null,
   "metadata": {},
   "outputs": [],
   "source": [
    "json_response = get_json_response(zipcode=99163)\n",
    "pprint.pprint(json_response)"
   ]
  },
  {
   "cell_type": "code",
   "execution_count": null,
   "metadata": {},
   "outputs": [],
   "source": [
    "get_UV_prediction(json_response)"
   ]
  }
 ],
 "metadata": {
  "kernelspec": {
   "display_name": "Python 3",
   "language": "python",
   "name": "python3"
  },
  "language_info": {
   "codemirror_mode": {
    "name": "ipython",
    "version": 3
   },
   "file_extension": ".py",
   "mimetype": "text/x-python",
   "name": "python",
   "nbconvert_exporter": "python",
   "pygments_lexer": "ipython3",
   "version": "3.6.3"
  }
 },
 "nbformat": 4,
 "nbformat_minor": 2
}
