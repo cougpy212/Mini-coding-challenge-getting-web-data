{
 "cells": [
  {
   "cell_type": "code",
   "execution_count": null,
   "metadata": {},
   "outputs": [],
   "source": [
    "import pprint\n",
    "import requests"
   ]
  },
  {
   "cell_type": "code",
   "execution_count": null,
   "metadata": {},
   "outputs": [],
   "source": [
    "def get_json_response(days):\n",
    "    '''Gets information about cases of flu detected by flutrack.org's API in JSON format. Days is taken as an argument\n",
    "    and allows the user to specify how many days back in history they wan to obtain this information for.\n",
    "    '''\n",
    "    url = 'http://api.flutrack.org/?time={}'.format(days)\n",
    "    json_response = requests.get(url).json()\n",
    "    return(json_response)"
   ]
  },
  {
   "cell_type": "code",
   "execution_count": null,
   "metadata": {},
   "outputs": [],
   "source": [
    "def get_coordinates(json_response):\n",
    "    '''Processes returned JSON of get_json_response function to obtain username and location data.\n",
    "    '''\n",
    "    for item in json_response:\n",
    "        print('user ' + item['user_name'] + '\\'s location is: ' + '\\n'\n",
    "              + item['latitude'] + ' latitude' + '\\n'\n",
    "              + item['longitude'] + ' longitude' + '\\n\\n')"
   ]
  },
  {
   "cell_type": "code",
   "execution_count": null,
   "metadata": {},
   "outputs": [],
   "source": [
    "json_response = get_json_response(days=1)\n",
    "pprint.pprint(json_response)"
   ]
  },
  {
   "cell_type": "code",
   "execution_count": null,
   "metadata": {},
   "outputs": [],
   "source": [
    "get_coordinates(json_response)"
   ]
  },
  {
   "cell_type": "code",
   "execution_count": null,
   "metadata": {},
   "outputs": [],
   "source": []
  },
  {
   "cell_type": "code",
   "execution_count": null,
   "metadata": {},
   "outputs": [],
   "source": []
  }
 ],
 "metadata": {
  "kernelspec": {
   "display_name": "Python 3",
   "language": "python",
   "name": "python3"
  },
  "language_info": {
   "codemirror_mode": {
    "name": "ipython",
    "version": 3
   },
   "file_extension": ".py",
   "mimetype": "text/x-python",
   "name": "python",
   "nbconvert_exporter": "python",
   "pygments_lexer": "ipython3",
   "version": "3.6.3"
  }
 },
 "nbformat": 4,
 "nbformat_minor": 2
}
