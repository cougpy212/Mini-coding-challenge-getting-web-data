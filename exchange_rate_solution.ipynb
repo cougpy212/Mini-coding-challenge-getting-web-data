{
 "cells": [
  {
   "cell_type": "code",
   "execution_count": null,
   "metadata": {},
   "outputs": [],
   "source": [
    "import pprint\n",
    "import requests"
   ]
  },
  {
   "cell_type": "code",
   "execution_count": null,
   "metadata": {},
   "outputs": [],
   "source": [
    "def get_json_response(base):\n",
    "    '''Gets data in JSON format for the exchange rates of common currencies compared to the base currency,\n",
    "     which is taken as an argument(i.e base=USD).\n",
    "    '''\n",
    "    url = 'https://api.fixer.io/latest?base={}'.format(base)\n",
    "    json_response = requests.get(url).json()\n",
    "    return json_response"
   ]
  },
  {
   "cell_type": "code",
   "execution_count": null,
   "metadata": {},
   "outputs": [],
   "source": [
    "def get_exchange(json_response):\n",
    "    '''Processes the returned JSON of get_json_response function and prints exchange rates for the given base\n",
    "    currency.\n",
    "    '''\n",
    "    print('The exchange rate for 1 ' + json_response['base'] + ' is: ' + '\\n')\n",
    "    for key in json_response['rates']:\n",
    "        print(str(json_response['rates'][key]) + ' ' + key)"
   ]
  },
  {
   "cell_type": "code",
   "execution_count": null,
   "metadata": {},
   "outputs": [],
   "source": [
    "json_response = get_json_response(base='USD')\n",
    "pprint.pprint(json_response)"
   ]
  },
  {
   "cell_type": "code",
   "execution_count": null,
   "metadata": {},
   "outputs": [],
   "source": [
    "get_exchange(json_response)"
   ]
  },
  {
   "cell_type": "code",
   "execution_count": null,
   "metadata": {},
   "outputs": [],
   "source": []
  }
 ],
 "metadata": {
  "kernelspec": {
   "display_name": "Python 3",
   "language": "python",
   "name": "python3"
  },
  "language_info": {
   "codemirror_mode": {
    "name": "ipython",
    "version": 3
   },
   "file_extension": ".py",
   "mimetype": "text/x-python",
   "name": "python",
   "nbconvert_exporter": "python",
   "pygments_lexer": "ipython3",
   "version": "3.6.3"
  }
 },
 "nbformat": 4,
 "nbformat_minor": 2
}
